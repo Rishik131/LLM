{
 "cells": [
  {
   "cell_type": "markdown",
   "metadata": {},
   "source": [
    "Modules"
   ]
  },
  {
   "cell_type": "code",
   "execution_count": 1,
   "metadata": {},
   "outputs": [],
   "source": [
    "import torch\n",
    "import torch.nn.functional as F\n",
    "import numpy as np"
   ]
  },
  {
   "cell_type": "code",
   "execution_count": 53,
   "metadata": {},
   "outputs": [],
   "source": [
    "epochs = 1000\n",
    "eval_iters = 250\n",
    "learning_rate = .001\n",
    "dropout_rate = .2"
   ]
  },
  {
   "cell_type": "markdown",
   "metadata": {},
   "source": [
    "Dataset"
   ]
  },
  {
   "cell_type": "code",
   "execution_count": 3,
   "metadata": {},
   "outputs": [
    {
     "data": {
      "text/plain": [
       "252051"
      ]
     },
     "execution_count": 3,
     "metadata": {},
     "output_type": "execute_result"
    }
   ],
   "source": [
    "file = open(r'dataset\\wizard_of_oz.txt','r',encoding='utf-8')\n",
    "text = file.read()\n",
    "file.close()\n",
    "len(text)"
   ]
  },
  {
   "cell_type": "code",
   "execution_count": 4,
   "metadata": {},
   "outputs": [],
   "source": [
    "tokens = sorted(set(text))"
   ]
  },
  {
   "cell_type": "code",
   "execution_count": 5,
   "metadata": {},
   "outputs": [],
   "source": [
    "vocabulary = {token:index for index,token in enumerate(tokens)}\n",
    "vocabulary_index = {index:token for index,token in enumerate(tokens)}"
   ]
  },
  {
   "cell_type": "code",
   "execution_count": 6,
   "metadata": {},
   "outputs": [],
   "source": [
    "def vocabulary_encoder(sequence):\n",
    "    return [vocabulary[s] for s in sequence]\n",
    "\n",
    "def vocabulary_decoder(sequence):\n",
    "    return ''.join([vocabulary_index[s] for s in sequence])\n"
   ]
  },
  {
   "cell_type": "markdown",
   "metadata": {},
   "source": [
    "Pre-Processing"
   ]
  },
  {
   "cell_type": "code",
   "execution_count": 7,
   "metadata": {},
   "outputs": [],
   "source": [
    "data = torch.tensor(vocabulary_encoder(text),dtype=torch.long)"
   ]
  },
  {
   "cell_type": "code",
   "execution_count": 8,
   "metadata": {},
   "outputs": [],
   "source": [
    "n = int(.8*len(data))\n",
    "train_data = data[:n]\n",
    "test_data = data[n:]\n",
    "block_size, batch_size = 8, 4"
   ]
  },
  {
   "cell_type": "code",
   "execution_count": 9,
   "metadata": {},
   "outputs": [],
   "source": [
    "def get_batch(dataset):\n",
    "    ix = torch.randint(len(dataset)-block_size, (batch_size,))\n",
    "    x = torch.stack([dataset[i:i+block_size] for i in ix])\n",
    "    y = torch.stack([dataset[i+1:i+block_size+1] for i in ix])\n",
    "    # x, y = x.to(device)\n",
    "    return x, y"
   ]
  },
  {
   "cell_type": "code",
   "execution_count": 241,
   "metadata": {},
   "outputs": [],
   "source": [
    "x, y = get_batch(train_data)"
   ]
  },
  {
   "cell_type": "code",
   "execution_count": 150,
   "metadata": {},
   "outputs": [
    {
     "name": "stdout",
     "output_type": "stream",
     "text": [
      "input:  tensor([[ 1, 64, 75, 78, 63, 63,  1, 77, 72, 71],\n",
      "        [58, 71, 61,  1, 80, 58, 77, 62, 75, 62],\n",
      "        [62,  1, 65, 62, 75, 62, 28,  3,  1, 58],\n",
      "        [ 3, 48, 65, 58, 77,  1, 66, 76,  1, 75],\n",
      "        [77, 65, 62,  1, 76, 78, 60, 60, 62, 76],\n",
      "        [62, 75,  1, 75, 72, 80,  1, 72, 63,  1],\n",
      "        [ 1, 64, 66, 75, 69, 14,  0,  0,  3, 44],\n",
      "        [ 1, 59, 58, 61, 69, 82,  1, 63, 75, 66],\n",
      "        [76,  1, 77, 72,  1, 60, 75, 58, 60, 68],\n",
      "        [ 1, 58,  1, 69, 58, 71, 61, 66, 71, 64]])\n",
      "labels:  tensor([[64, 75, 78, 63, 63,  1, 77, 72, 71],\n",
      "        [71, 61,  1, 80, 58, 77, 62, 75, 62],\n",
      "        [ 1, 65, 62, 75, 62, 28,  3,  1, 58],\n",
      "        [48, 65, 58, 77,  1, 66, 76,  1, 75],\n",
      "        [65, 62,  1, 76, 78, 60, 60, 62, 76],\n",
      "        [75,  1, 75, 72, 80,  1, 72, 63,  1],\n",
      "        [64, 66, 75, 69, 14,  0,  0,  3, 44],\n",
      "        [59, 58, 61, 69, 82,  1, 63, 75, 66],\n",
      "        [ 1, 77, 72,  1, 60, 75, 58, 60, 68],\n",
      "        [58,  1, 69, 58, 71, 61, 66, 71, 64]])\n"
     ]
    }
   ],
   "source": [
    "print('input: ', x)\n",
    "print('labels: ', y)"
   ]
  },
  {
   "cell_type": "markdown",
   "metadata": {},
   "source": [
    "Model"
   ]
  },
  {
   "cell_type": "code",
   "execution_count": 10,
   "metadata": {},
   "outputs": [],
   "source": [
    "device = torch.device('cuda' if torch.cuda.is_available() else 'cpu')"
   ]
  },
  {
   "cell_type": "code",
   "execution_count": 10,
   "metadata": {},
   "outputs": [],
   "source": [
    "vocab_size = len(vocabulary)"
   ]
  },
  {
   "cell_type": "code",
   "execution_count": 54,
   "metadata": {},
   "outputs": [],
   "source": [
    "@torch.no_grad()\n",
    "def estimate_loss():\n",
    "    out = {}\n",
    "    model.eval()\n",
    "    for split in ['train', 'val']:\n",
    "        losses = torch.zeros(eval_iters)\n",
    "        for k in range(eval_iters):\n",
    "            if split=='train': X, Y = get_batch(train_data)\n",
    "            else: X, Y = get_batch(test_data)\n",
    "\n",
    "            with torch.no_grad():\n",
    "                logits, loss = model(X, Y)\n",
    "                losses[k] = loss.item()\n",
    "\n",
    "        model.train()\n",
    "        out[split] = losses.mean()\n",
    "\n",
    "    return out"
   ]
  },
  {
   "cell_type": "code",
   "execution_count": 55,
   "metadata": {},
   "outputs": [],
   "source": [
    "class Model(torch.nn.Module):\n",
    "    def __init__(self,vocab_size,embedding_dim):\n",
    "        super(Model,self).__init__()\n",
    "        self.token_embedding_layer = torch.nn.Embedding(vocab_size,embedding_dim)\n",
    "\n",
    "    def forward(self,input,targets=None):\n",
    "        logits = self.token_embedding_layer(input)\n",
    "        if targets == None:\n",
    "            loss = None\n",
    "        else:\n",
    "            B,T,C = logits.shape\n",
    "            logits = logits.view(B*T,C)\n",
    "            targets = targets.view(B*T)\n",
    "            loss = F.cross_entropy(logits,targets)\n",
    "        return logits,loss\n",
    "    \n",
    "    def generate(self, input, max_new_tokens):\n",
    "        for i in range(max_new_tokens):\n",
    "            logits, loss = self.forward(input)\n",
    "            logits = logits[:,-1,:]\n",
    "            probabilities = F.softmax(logits,dim=-1)\n",
    "            input_next = torch.multinomial(probabilities,num_samples=1)\n",
    "            input = torch.cat((input,input_next),dim=1)\n",
    "        return input\n"
   ]
  },
  {
   "cell_type": "code",
   "execution_count": 56,
   "metadata": {},
   "outputs": [
    {
     "name": "stdout",
     "output_type": "stream",
     "text": [
      "Model(\n",
      "  (token_embedding_layer): Embedding(92, 92)\n",
      ")\n"
     ]
    }
   ],
   "source": [
    "model = Model(vocab_size, vocab_size)\n",
    "model = model.to(device)\n",
    "print(model)"
   ]
  },
  {
   "cell_type": "code",
   "execution_count": 57,
   "metadata": {},
   "outputs": [],
   "source": [
    "optimizer = torch.optim.AdamW(model.parameters(),lr=learning_rate)"
   ]
  },
  {
   "cell_type": "code",
   "execution_count": 58,
   "metadata": {},
   "outputs": [
    {
     "name": "stdout",
     "output_type": "stream",
     "text": [
      "step: 0, loss: {'train': tensor(4.9999), 'val': tensor(4.9975)}\n",
      "step: 100, loss: {'train': tensor(4.8727), 'val': tensor(4.8969)}\n",
      "step: 200, loss: {'train': tensor(4.8069), 'val': tensor(4.8178)}\n",
      "step: 300, loss: {'train': tensor(4.7206), 'val': tensor(4.7593)}\n",
      "step: 400, loss: {'train': tensor(4.6307), 'val': tensor(4.6548)}\n",
      "step: 500, loss: {'train': tensor(4.5660), 'val': tensor(4.5706)}\n",
      "step: 600, loss: {'train': tensor(4.4747), 'val': tensor(4.5037)}\n",
      "step: 700, loss: {'train': tensor(4.4157), 'val': tensor(4.4507)}\n",
      "step: 800, loss: {'train': tensor(4.3308), 'val': tensor(4.3828)}\n",
      "step: 900, loss: {'train': tensor(4.2689), 'val': tensor(4.3070)}\n",
      "tensor(4.4643, grad_fn=<NllLossBackward0>)\n"
     ]
    }
   ],
   "source": [
    "for epoch in range(epochs):\n",
    "    if epoch%100 == 0:\n",
    "        losses = estimate_loss()\n",
    "        print(f'step: {epoch}, loss: {losses}')\n",
    "    xb, yb = get_batch(train_data)\n",
    "    logits, loss = model.forward(xb,yb)\n",
    "    optimizer.zero_grad(set_to_none=True)\n",
    "    loss.backward()\n",
    "    optimizer.step()\n",
    "print(loss)"
   ]
  },
  {
   "cell_type": "code",
   "execution_count": 34,
   "metadata": {},
   "outputs": [
    {
     "data": {
      "text/plain": [
       "tensor([[36, 62, 69, 69, 72, 12,  1, 65, 72, 80,  1, 58, 75, 62,  1, 82, 72, 78,\n",
       "         28,  1, 70, 82,  1, 71, 58, 70, 62,  1, 66, 76,  1, 80, 66, 83]])"
      ]
     },
     "execution_count": 34,
     "metadata": {},
     "output_type": "execute_result"
    }
   ],
   "source": [
    "context =  torch.tensor([vocabulary_encoder('Hello, how are you? my name is wiz')])\n",
    "context"
   ]
  },
  {
   "cell_type": "code",
   "execution_count": 35,
   "metadata": {},
   "outputs": [
    {
     "name": "stdout",
     "output_type": "stream",
     "text": [
      "Hello, how are you? my name is wizR3\n",
      "Pt7BQWAU[Ipe.lG)*;N8MKiZmWrdDlS !AGu?3 E”*dTpNc\n"
     ]
    }
   ],
   "source": [
    "generated_chars = vocabulary_decoder(model.generate(context, max_new_tokens=50)[0].tolist())\n",
    "print(generated_chars)"
   ]
  },
  {
   "cell_type": "markdown",
   "metadata": {},
   "source": [
    "____"
   ]
  },
  {
   "cell_type": "markdown",
   "metadata": {},
   "source": [
    "GPT"
   ]
  },
  {
   "cell_type": "code",
   "execution_count": 14,
   "metadata": {},
   "outputs": [],
   "source": [
    "import torch\n",
    "from torch.nn import functional as F"
   ]
  },
  {
   "cell_type": "code",
   "execution_count": 15,
   "metadata": {},
   "outputs": [],
   "source": [
    "block_size = 8\n",
    "batch_size = 4\n",
    "epochs = 1000\n",
    "learning_rate = .001\n",
    "n_embd = 384\n",
    "n_layer = 4"
   ]
  },
  {
   "cell_type": "code",
   "execution_count": 11,
   "metadata": {},
   "outputs": [],
   "source": [
    "@torch.no_grad()\n",
    "def calculate_loss():\n",
    "    model.eval()\n",
    "    losses = torch.zeros(250)\n",
    "    for epoch in range(250):\n",
    "        x, y = get_batch(test_data)\n",
    "        logits, loss = model(x, y)\n",
    "        losses[epoch] = loss.item()\n",
    "    output = losses.mean()\n",
    "    return output"
   ]
  },
  {
   "cell_type": "code",
   "execution_count": null,
   "metadata": {},
   "outputs": [],
   "source": [
    "class GPTLanguageModel(torch.nn.Model):\n",
    "    def __init__(self, vocab_size):\n",
    "        self.token_embedding_table = torch.nn.Embedding(vocab_size, n_embd)\n",
    "        self.position_embedding_table = torch.nn.Embedding(block_size, n_embd)\n",
    "        self.blocks = torch.nn.Sequential(*[Block(n_embd, n_head=n_head) for _ in range(n_layer)])\n",
    "        self.ln_f = torch.nn.LayerNorm(n_embd)\n",
    "        self.lm_head = torch.nn.linear(n_embd, vocab_size)\n",
    "\n",
    "    def forward(self, index, targets=None):\n",
    "        logits = self.token_embedding_table(index)\n",
    "\n",
    "        if targets is None: loss = None\n",
    "        else:\n",
    "            B, T, C = logits.shape\n",
    "            logits = logits.view(B*T, C)            \n",
    "            targets = targets.view(B*T)\n",
    "            loss = F.cross_entropy(logits,targets)\n",
    "        return logits, loss\n",
    "    \n",
    "    def generate(self, index, max_new_tokens):\n",
    "        for _ in range(max_new_tokens):\n",
    "            logits, loss = self.forward(index)\n",
    "            logits = logits[:, -1, :]\n",
    "            probs = F.softmax(logits, dim=-1)"
   ]
  }
 ],
 "metadata": {
  "kernelspec": {
   "display_name": "venv",
   "language": "python",
   "name": "python3"
  },
  "language_info": {
   "codemirror_mode": {
    "name": "ipython",
    "version": 3
   },
   "file_extension": ".py",
   "mimetype": "text/x-python",
   "name": "python",
   "nbconvert_exporter": "python",
   "pygments_lexer": "ipython3",
   "version": "3.10.8"
  }
 },
 "nbformat": 4,
 "nbformat_minor": 2
}
