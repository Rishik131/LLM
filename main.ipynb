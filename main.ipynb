{
 "cells": [
  {
   "cell_type": "markdown",
   "metadata": {},
   "source": [
    "Modules"
   ]
  },
  {
   "cell_type": "code",
   "execution_count": 188,
   "metadata": {},
   "outputs": [],
   "source": [
    "import torch\n",
    "import torch.nn.functional as F\n",
    "import numpy as np"
   ]
  },
  {
   "cell_type": "markdown",
   "metadata": {},
   "source": [
    "Dataset"
   ]
  },
  {
   "cell_type": "code",
   "execution_count": 14,
   "metadata": {},
   "outputs": [
    {
     "data": {
      "text/plain": [
       "252051"
      ]
     },
     "execution_count": 14,
     "metadata": {},
     "output_type": "execute_result"
    }
   ],
   "source": [
    "file = open(r'dataset\\wizard_of_oz.txt','r',encoding='utf-8')\n",
    "text = file.read()\n",
    "file.close()\n",
    "len(text)"
   ]
  },
  {
   "cell_type": "code",
   "execution_count": 30,
   "metadata": {},
   "outputs": [],
   "source": [
    "tokens = sorted(set(text))"
   ]
  },
  {
   "cell_type": "code",
   "execution_count": 29,
   "metadata": {},
   "outputs": [],
   "source": [
    "vocabulary = {token:index for index,token in enumerate(tokens)}\n",
    "vocabulary_index = {index:token for index,token in enumerate(tokens)}"
   ]
  },
  {
   "cell_type": "code",
   "execution_count": 31,
   "metadata": {},
   "outputs": [],
   "source": [
    "def vocabulary_encoder(sequence):\n",
    "    return [vocabulary[s] for s in sequence]\n",
    "\n",
    "def vocabulary_decoder(sequence):\n",
    "    return ''.join([vocabulary_index[s] for s in sequence])\n"
   ]
  },
  {
   "cell_type": "markdown",
   "metadata": {},
   "source": [
    "Pre-Processing"
   ]
  },
  {
   "cell_type": "code",
   "execution_count": 38,
   "metadata": {},
   "outputs": [],
   "source": [
    "data = torch.tensor(vocabulary_encoder(text),dtype=torch.long)"
   ]
  },
  {
   "cell_type": "code",
   "execution_count": 163,
   "metadata": {},
   "outputs": [],
   "source": [
    "n = int(.8*len(data))\n",
    "train_data = data[:n]\n",
    "test_data = data[n:]\n",
    "block_size, batch_size = 8, 4"
   ]
  },
  {
   "cell_type": "code",
   "execution_count": 240,
   "metadata": {},
   "outputs": [],
   "source": [
    "def get_batch(dataset):\n",
    "    ix = torch.randint(len(dataset)-block_size, (batch_size,))\n",
    "    x = torch.stack([dataset[i:i+block_size] for i in ix])\n",
    "    y = torch.stack([dataset[i+1:i+block_size+1] for i in ix])\n",
    "    # x, y = x.to(device)\n",
    "    return x, y"
   ]
  },
  {
   "cell_type": "code",
   "execution_count": 241,
   "metadata": {},
   "outputs": [],
   "source": [
    "x, y = get_batch(train_data)"
   ]
  },
  {
   "cell_type": "code",
   "execution_count": 150,
   "metadata": {},
   "outputs": [
    {
     "name": "stdout",
     "output_type": "stream",
     "text": [
      "input:  tensor([[ 1, 64, 75, 78, 63, 63,  1, 77, 72, 71],\n",
      "        [58, 71, 61,  1, 80, 58, 77, 62, 75, 62],\n",
      "        [62,  1, 65, 62, 75, 62, 28,  3,  1, 58],\n",
      "        [ 3, 48, 65, 58, 77,  1, 66, 76,  1, 75],\n",
      "        [77, 65, 62,  1, 76, 78, 60, 60, 62, 76],\n",
      "        [62, 75,  1, 75, 72, 80,  1, 72, 63,  1],\n",
      "        [ 1, 64, 66, 75, 69, 14,  0,  0,  3, 44],\n",
      "        [ 1, 59, 58, 61, 69, 82,  1, 63, 75, 66],\n",
      "        [76,  1, 77, 72,  1, 60, 75, 58, 60, 68],\n",
      "        [ 1, 58,  1, 69, 58, 71, 61, 66, 71, 64]])\n",
      "labels:  tensor([[64, 75, 78, 63, 63,  1, 77, 72, 71],\n",
      "        [71, 61,  1, 80, 58, 77, 62, 75, 62],\n",
      "        [ 1, 65, 62, 75, 62, 28,  3,  1, 58],\n",
      "        [48, 65, 58, 77,  1, 66, 76,  1, 75],\n",
      "        [65, 62,  1, 76, 78, 60, 60, 62, 76],\n",
      "        [75,  1, 75, 72, 80,  1, 72, 63,  1],\n",
      "        [64, 66, 75, 69, 14,  0,  0,  3, 44],\n",
      "        [59, 58, 61, 69, 82,  1, 63, 75, 66],\n",
      "        [ 1, 77, 72,  1, 60, 75, 58, 60, 68],\n",
      "        [58,  1, 69, 58, 71, 61, 66, 71, 64]])\n"
     ]
    }
   ],
   "source": [
    "print('input: ', x)\n",
    "print('labels: ', y)"
   ]
  },
  {
   "cell_type": "markdown",
   "metadata": {},
   "source": [
    "Model"
   ]
  },
  {
   "cell_type": "code",
   "execution_count": 36,
   "metadata": {},
   "outputs": [],
   "source": [
    "device = torch.device('cuda' if torch.cuda.is_available() else 'cpu')"
   ]
  },
  {
   "cell_type": "code",
   "execution_count": 242,
   "metadata": {},
   "outputs": [],
   "source": [
    "vocab_size = len(vocabulary)"
   ]
  },
  {
   "cell_type": "code",
   "execution_count": 247,
   "metadata": {},
   "outputs": [],
   "source": [
    "class Model(torch.nn.Module):\n",
    "    def __init__(self,vocab_size,embedding_dim):\n",
    "        super(Model,self).__init__()\n",
    "        self.token_embedding_layer = torch.nn.Embedding(vocab_size,embedding_dim)\n",
    "\n",
    "    def forward(self,input,targets=None):\n",
    "        logits = self.token_embedding_layer(input)\n",
    "        if targets == None:\n",
    "            loss = None\n",
    "        else:\n",
    "            B,T,C = logits.shape\n",
    "            logits = logits.view(B*T,C)\n",
    "            targets = targets.view(B*T)\n",
    "            loss = F.cross_entropy(logits,targets)\n",
    "        return logits,loss\n",
    "    \n",
    "    def generate(self, input, max_new_tokens):\n",
    "        for i in range(max_new_tokens):\n",
    "            logits, loss = self.forward(input)\n",
    "            logits = logits[:,-1,:]\n",
    "            probabilities = F.softmax(logits,dim=-1)\n",
    "            input_next = torch.multinomial(probabilities,num_samples=1)\n",
    "            input = torch.cat((input,input_next),dim=1)\n",
    "        return input\n"
   ]
  },
  {
   "cell_type": "code",
   "execution_count": 248,
   "metadata": {},
   "outputs": [
    {
     "name": "stdout",
     "output_type": "stream",
     "text": [
      "Model(\n",
      "  (token_embedding_layer): Embedding(92, 92)\n",
      ")\n"
     ]
    }
   ],
   "source": [
    "model = Model(vocab_size, vocab_size)\n",
    "model = model.to(device)\n",
    "print(model)"
   ]
  },
  {
   "cell_type": "code",
   "execution_count": 245,
   "metadata": {},
   "outputs": [],
   "source": [
    "optimizer = torch.optim.AdamW(model.parameters(),lr=.001)"
   ]
  },
  {
   "cell_type": "code",
   "execution_count": 249,
   "metadata": {},
   "outputs": [
    {
     "name": "stdout",
     "output_type": "stream",
     "text": [
      "tensor(5.1547, grad_fn=<NllLossBackward0>)\n"
     ]
    }
   ],
   "source": [
    "for epoch in range(100):\n",
    "    xb, yb = get_batch(train_data)\n",
    "    logits, loss = model.forward(xb,yb)\n",
    "    optimizer.zero_grad(set_to_none=True)\n",
    "    loss.backward()\n",
    "    optimizer.step()\n",
    "print(loss)"
   ]
  },
  {
   "cell_type": "code",
   "execution_count": null,
   "metadata": {},
   "outputs": [],
   "source": []
  }
 ],
 "metadata": {
  "kernelspec": {
   "display_name": "venv",
   "language": "python",
   "name": "python3"
  },
  "language_info": {
   "codemirror_mode": {
    "name": "ipython",
    "version": 3
   },
   "file_extension": ".py",
   "mimetype": "text/x-python",
   "name": "python",
   "nbconvert_exporter": "python",
   "pygments_lexer": "ipython3",
   "version": "3.10.8"
  }
 },
 "nbformat": 4,
 "nbformat_minor": 2
}
